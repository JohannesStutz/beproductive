{
 "cells": [
  {
   "cell_type": "code",
   "execution_count": null,
   "id": "supported-mercury",
   "metadata": {},
   "outputs": [
    {
     "name": "stdout",
     "output_type": "stream",
     "text": [
      "The autoreload extension is already loaded. To reload it, use:\n",
      "  %reload_ext autoreload\n"
     ]
    }
   ],
   "source": [
    "# default_exp config\n",
    "%load_ext autoreload\n",
    "%autoreload 2"
   ]
  },
  {
   "cell_type": "markdown",
   "id": "labeled-circuit",
   "metadata": {},
   "source": [
    "# Config File Handling\n",
    "\n",
    "> We create a default blocklist.yaml file that stores the blocked URLs. It can be edited with command line arguments."
   ]
  },
  {
   "cell_type": "code",
   "execution_count": null,
   "id": "placed-notification",
   "metadata": {},
   "outputs": [],
   "source": [
    "#export\n",
    "import yaml\n",
    "DEFAULT_URLS = [\"twitter.com\", \"youtube.com\", \"facebook.com\", \n",
    "    \"instagram.com\", \"reddit.com\", \"netflix.com\",    \"amazon.com\", \"linkedin.com\"]"
   ]
  },
  {
   "cell_type": "code",
   "execution_count": null,
   "id": "mobile-symbol",
   "metadata": {},
   "outputs": [],
   "source": [
    "#export\n",
    "def save_config(urls: list = None, default = False):\n",
    "    if default:\n",
    "        blocklist = DEFAULT_URLS\n",
    "    else:\n",
    "        blocklist = urls\n",
    "    config = {\n",
    "        \"blocklist\" :  blocklist\n",
    "    }\n",
    "    with open('blocklist.yaml', 'w') as configfile:\n",
    "        yaml.dump(config, configfile)\n",
    "    return True"
   ]
  },
  {
   "cell_type": "code",
   "execution_count": null,
   "id": "veterinary-norman",
   "metadata": {},
   "outputs": [
    {
     "data": {
      "text/plain": [
       "True"
      ]
     },
     "execution_count": null,
     "metadata": {},
     "output_type": "execute_result"
    }
   ],
   "source": [
    "save_config(default=True)"
   ]
  },
  {
   "cell_type": "markdown",
   "id": "worth-arcade",
   "metadata": {},
   "source": [
    "Read in the new config file:"
   ]
  },
  {
   "cell_type": "code",
   "execution_count": null,
   "id": "distant-turkish",
   "metadata": {},
   "outputs": [],
   "source": [
    "#export\n",
    "def load_config():\n",
    "    try:\n",
    "        with open('blocklist.yaml', 'r') as configfile:\n",
    "            config = yaml.safe_load(configfile)\n",
    "        return config['blocklist']\n",
    "    except FileNotFoundError:\n",
    "        return False"
   ]
  },
  {
   "cell_type": "code",
   "execution_count": null,
   "id": "pharmaceutical-reasoning",
   "metadata": {},
   "outputs": [
    {
     "data": {
      "text/plain": [
       "['twitter.com',\n",
       " 'youtube.com',\n",
       " 'facebook.com',\n",
       " 'instagram.com',\n",
       " 'reddit.com',\n",
       " 'netflix.com',\n",
       " 'amazon.com',\n",
       " 'linkedin.com']"
      ]
     },
     "execution_count": null,
     "metadata": {},
     "output_type": "execute_result"
    }
   ],
   "source": [
    "blocklist = load_config()\n",
    "blocklist"
   ]
  },
  {
   "cell_type": "code",
   "execution_count": null,
   "id": "muslim-being",
   "metadata": {},
   "outputs": [],
   "source": [
    "#export\n",
    "def add_urls(urls):\n",
    "    # Turn into a list if only one URL is given\n",
    "    to_add = [urls] if isinstance(urls, str) else urls\n",
    "    to_add = list(map(str.lower, to_add))\n",
    "    stored_urls = load_config()\n",
    "    stored_urls.extend(to_add)\n",
    "    # Prevent double entries\n",
    "    updated_urls = list(set(stored_urls))\n",
    "    save_config(updated_urls)\n",
    "    verb = \"has\" if len(to_add) == 1 else \"have\"\n",
    "    print(f\"{', '.join(to_add)} {verb} been added to the blocklist\")"
   ]
  },
  {
   "cell_type": "markdown",
   "id": "devoted-breed",
   "metadata": {},
   "source": [
    "Testing `add_urls`"
   ]
  },
  {
   "cell_type": "code",
   "execution_count": null,
   "id": "tropical-angola",
   "metadata": {},
   "outputs": [
    {
     "name": "stdout",
     "output_type": "stream",
     "text": [
      "testsite.com has been added to the blocklist\n",
      "moresites.com, capitalletters.com have been added to the blocklist\n"
     ]
    },
    {
     "data": {
      "text/plain": [
       "True"
      ]
     },
     "execution_count": null,
     "metadata": {},
     "output_type": "execute_result"
    }
   ],
   "source": [
    "save_config(default=True)\n",
    "\n",
    "assert \"testsite.com\" not in load_config(), \"testsite.com should not be in default blocked URLs\"\n",
    "add_urls(\"testsite.com\")\n",
    "assert \"testsite.com\" in load_config(), \"testsite.com should have been added to config file\"\n",
    "\n",
    "add_urls([\"moresites.com\", \"CapitalLetters.COM\"])\n",
    "assert \"moresites.com\" in load_config(), \"URL list should have been added to config file\"\n",
    "assert \"capitalletters.com\" in load_config(), \"URLs should have been converted to lower case\"\n",
    "\n",
    "save_config(default=True)"
   ]
  },
  {
   "cell_type": "code",
   "execution_count": null,
   "id": "contrary-closer",
   "metadata": {},
   "outputs": [],
   "source": [
    "#export\n",
    "def remove_urls(urls):\n",
    "    to_remove = [urls] if isinstance(urls, str) else urls\n",
    "    to_remove = list(map(str.lower, to_remove))\n",
    "    stored_urls = load_config()\n",
    "    updated_urls = [url for url in stored_urls if url not in to_remove]\n",
    "    save_config(updated_urls)     \n",
    "    verb = \"has\" if len(to_remove) == 1 else \"have\"\n",
    "    print(f\"{', '.join(to_remove)} {verb} been removed from the blocklist\")"
   ]
  },
  {
   "cell_type": "markdown",
   "id": "digital-kidney",
   "metadata": {},
   "source": [
    "Testing `remove_urls`"
   ]
  },
  {
   "cell_type": "code",
   "execution_count": null,
   "id": "incorrect-johnston",
   "metadata": {},
   "outputs": [
    {
     "name": "stdout",
     "output_type": "stream",
     "text": [
      "facebook.com has been removed from the blocklist\n",
      "twitter.com, youtube.com have been removed from the blocklist\n"
     ]
    },
    {
     "data": {
      "text/plain": [
       "True"
      ]
     },
     "execution_count": null,
     "metadata": {},
     "output_type": "execute_result"
    }
   ],
   "source": [
    "save_config(default=True)\n",
    "\n",
    "assert \"facebook.com\" in load_config(), \"facebook.com should be in default blocked URLs\"\n",
    "remove_urls(\"facebook.com\")\n",
    "assert \"facebook.com\" not in load_config(), \"facebook.com should have been removed from config file\"\n",
    "\n",
    "remove_urls([\"twitter.com\", \"YOUTUBE.COM\"])\n",
    "assert \"twitter.com\" not in load_config(), \"URL list should have been removed from config file\"\n",
    "assert \"youtube.com\" not in load_config(), \"URLs should have been converted to lower case\"\n",
    "\n",
    "save_config(default=True)"
   ]
  },
  {
   "cell_type": "code",
   "execution_count": null,
   "id": "ruled-biotechnology",
   "metadata": {},
   "outputs": [],
   "source": [
    "#export\n",
    "def show_blocklist():\n",
    "    print('\\n'.join(load_config()))"
   ]
  },
  {
   "cell_type": "code",
   "execution_count": null,
   "id": "protecting-conducting",
   "metadata": {},
   "outputs": [
    {
     "name": "stdout",
     "output_type": "stream",
     "text": [
      "Converted 00_beproductive.ipynb.\n",
      "Converted 01_blocker.ipynb.\n",
      "Converted 02_pomodoro.ipynb.\n",
      "Converted 03_config.ipynb.\n",
      "Converted index.ipynb.\n"
     ]
    }
   ],
   "source": [
    "#hide\n",
    "from nbdev.export import notebook2script; notebook2script()"
   ]
  }
 ],
 "metadata": {
  "kernelspec": {
   "display_name": "Python 3",
   "language": "python",
   "name": "python3"
  }
 },
 "nbformat": 4,
 "nbformat_minor": 5
}
