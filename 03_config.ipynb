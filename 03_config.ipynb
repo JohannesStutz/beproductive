{
 "cells": [
  {
   "cell_type": "code",
   "execution_count": null,
   "id": "modern-buffalo",
   "metadata": {},
   "outputs": [
    {
     "name": "stdout",
     "output_type": "stream",
     "text": [
      "The autoreload extension is already loaded. To reload it, use:\n",
      "  %reload_ext autoreload\n"
     ]
    }
   ],
   "source": [
    "# default_exp config\n",
    "%load_ext autoreload\n",
    "%autoreload 2"
   ]
  },
  {
   "cell_type": "markdown",
   "id": "smoking-terminology",
   "metadata": {},
   "source": [
    "## Config File Handling\n",
    "We create a default blocklist.yaml file that stores the blocked URLs. It can be edited with command line arguments."
   ]
  },
  {
   "cell_type": "code",
   "execution_count": null,
   "id": "expanded-seven",
   "metadata": {},
   "outputs": [],
   "source": [
    "#export\n",
    "import yaml\n",
    "from fastcore.utils import *\n",
    "DEFAULT_URLS = [\"twitter.com\", \"youtube.com\", \"facebook.com\", \n",
    "    \"instagram.com\", \"reddit.com\", \"netflix.com\",    \"amazon.com\", \"linkedin.com\"]"
   ]
  },
  {
   "cell_type": "code",
   "execution_count": null,
   "id": "recognized-transsexual",
   "metadata": {},
   "outputs": [],
   "source": [
    "#export\n",
    "def save_config(urls: list = None, default = False):\n",
    "    if default:\n",
    "        blocklist = DEFAULT_URLS\n",
    "    else:\n",
    "        blocklist = urls\n",
    "    config = {\n",
    "        \"blocklist\" :  blocklist\n",
    "    }\n",
    "    with open('blocklist.yaml', 'w') as configfile:\n",
    "        yaml.dump(config, configfile)\n",
    "    return True"
   ]
  },
  {
   "cell_type": "code",
   "execution_count": null,
   "id": "endless-beauty",
   "metadata": {},
   "outputs": [
    {
     "data": {
      "text/plain": [
       "True"
      ]
     },
     "execution_count": null,
     "metadata": {},
     "output_type": "execute_result"
    }
   ],
   "source": [
    "save_config(default=True)"
   ]
  },
  {
   "cell_type": "markdown",
   "id": "utility-transcription",
   "metadata": {},
   "source": [
    "Read in the new config file:"
   ]
  },
  {
   "cell_type": "code",
   "execution_count": null,
   "id": "emotional-technique",
   "metadata": {},
   "outputs": [],
   "source": [
    "#export\n",
    "def load_config():\n",
    "    try:\n",
    "        with open('blocklist.yaml', 'r') as configfile:\n",
    "            config = yaml.safe_load(configfile)\n",
    "        return config['blocklist']\n",
    "    except FileNotFoundError:\n",
    "        return False"
   ]
  },
  {
   "cell_type": "code",
   "execution_count": null,
   "id": "determined-little",
   "metadata": {},
   "outputs": [
    {
     "data": {
      "text/plain": [
       "['twitter.com',\n",
       " 'youtube.com',\n",
       " 'facebook.com',\n",
       " 'instagram.com',\n",
       " 'reddit.com',\n",
       " 'netflix.com',\n",
       " 'amazon.com',\n",
       " 'linkedin.com']"
      ]
     },
     "execution_count": null,
     "metadata": {},
     "output_type": "execute_result"
    }
   ],
   "source": [
    "blocklist = load_config()\n",
    "blocklist"
   ]
  },
  {
   "cell_type": "code",
   "execution_count": null,
   "id": "administrative-laundry",
   "metadata": {},
   "outputs": [],
   "source": [
    "#export\n",
    "def add_urls(urls):\n",
    "    to_add = listify(urls)\n",
    "    to_add = list(map(str.lower, to_add))\n",
    "    stored_urls = load_config()\n",
    "    stored_urls.extend(to_add)\n",
    "    # Prevent double entries\n",
    "    updated_urls = list(set(stored_urls))\n",
    "    save_config(updated_urls)\n",
    "    verb = \"has\" if len(to_add) == 1 else \"have\"\n",
    "    print(f\"{', '.join(to_add)} {verb} been added to blocklist\")"
   ]
  },
  {
   "cell_type": "markdown",
   "id": "swiss-transcription",
   "metadata": {},
   "source": [
    "Testing `add_urls`"
   ]
  },
  {
   "cell_type": "code",
   "execution_count": null,
   "id": "identified-accreditation",
   "metadata": {},
   "outputs": [
    {
     "name": "stdout",
     "output_type": "stream",
     "text": [
      "testsite.com has been added to blocklist\n",
      "moresites.com, capitalletters.com have been added to blocklist\n"
     ]
    },
    {
     "data": {
      "text/plain": [
       "True"
      ]
     },
     "execution_count": null,
     "metadata": {},
     "output_type": "execute_result"
    }
   ],
   "source": [
    "save_config(default=True)\n",
    "\n",
    "assert \"testsite.com\" not in load_config(), \"testsite.com should not be in default blocked URLs\"\n",
    "add_urls(\"testsite.com\")\n",
    "assert \"testsite.com\" in load_config(), \"testsite.com should have been added to config file\"\n",
    "\n",
    "add_urls([\"moresites.com\", \"CapitalLetters.COM\"])\n",
    "assert \"moresites.com\" in load_config(), \"URL list should have been added to config file\"\n",
    "assert \"capitalletters.com\" in load_config(), \"URLs should have been converted to lower case\"\n",
    "\n",
    "save_config(default=True)"
   ]
  },
  {
   "cell_type": "code",
   "execution_count": null,
   "id": "spread-vegetation",
   "metadata": {},
   "outputs": [],
   "source": [
    "#export\n",
    "def remove_urls(urls):\n",
    "    to_remove = listify(urls)\n",
    "    to_remove = list(map(str.lower, to_remove))\n",
    "    stored_urls = load_config()\n",
    "    updated_urls = [url for url in stored_urls if url not in to_remove]\n",
    "    save_config(updated_urls)     \n",
    "    verb = \"has\" if len(to_remove) == 1 else \"have\"\n",
    "    print(f\"{', '.join(to_remove)} {verb} been removed from blocklist\")"
   ]
  },
  {
   "cell_type": "markdown",
   "id": "burning-developer",
   "metadata": {},
   "source": [
    "Testing `remove_urls`"
   ]
  },
  {
   "cell_type": "code",
   "execution_count": null,
   "id": "advised-quest",
   "metadata": {},
   "outputs": [
    {
     "name": "stdout",
     "output_type": "stream",
     "text": [
      "facebook.com has been removed from blocklist\n",
      "twitter.com, youtube.com have been removed from blocklist\n"
     ]
    },
    {
     "data": {
      "text/plain": [
       "True"
      ]
     },
     "execution_count": null,
     "metadata": {},
     "output_type": "execute_result"
    }
   ],
   "source": [
    "save_config(default=True)\n",
    "\n",
    "assert \"facebook.com\" in load_config(), \"facebook.com should be in default blocked URLs\"\n",
    "remove_urls(\"facebook.com\")\n",
    "assert \"facebook.com\" not in load_config(), \"facebook.com should have been removed from config file\"\n",
    "\n",
    "remove_urls([\"twitter.com\", \"YOUTUBE.COM\"])\n",
    "assert \"twitter.com\" not in load_config(), \"URL list should have been removed from config file\"\n",
    "assert \"youtube.com\" not in load_config(), \"URLs should have been converted to lower case\"\n",
    "\n",
    "save_config(default=True)"
   ]
  },
  {
   "cell_type": "code",
   "execution_count": null,
   "id": "nervous-february",
   "metadata": {},
   "outputs": [],
   "source": [
    "#export\n",
    "def show_blocklist():\n",
    "    print('\\n'.join(load_config()))"
   ]
  },
  {
   "cell_type": "code",
   "execution_count": null,
   "id": "mighty-river",
   "metadata": {},
   "outputs": [
    {
     "name": "stdout",
     "output_type": "stream",
     "text": [
      "Converted 00_beproductive.ipynb.\n",
      "Converted 01_blocker.ipynb.\n",
      "Converted 02_pomodoro.ipynb.\n",
      "Converted 03_config.ipynb.\n",
      "Converted index.ipynb.\n"
     ]
    }
   ],
   "source": [
    "#hide\n",
    "from nbdev.export import notebook2script; notebook2script()"
   ]
  }
 ],
 "metadata": {
  "kernelspec": {
   "display_name": "Python 3",
   "language": "python",
   "name": "python3"
  }
 },
 "nbformat": 4,
 "nbformat_minor": 5
}
