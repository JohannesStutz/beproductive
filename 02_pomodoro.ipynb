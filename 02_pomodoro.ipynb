{
 "cells": [
  {
   "cell_type": "code",
   "execution_count": null,
   "metadata": {},
   "outputs": [
    {
     "name": "stdout",
     "output_type": "stream",
     "text": [
      "The autoreload extension is already loaded. To reload it, use:\n",
      "  %reload_ext autoreload\n"
     ]
    }
   ],
   "source": [
    "# default_exp pomodoro\n",
    "%load_ext autoreload\n",
    "%autoreload 2"
   ]
  },
  {
   "cell_type": "markdown",
   "metadata": {},
   "source": [
    "# Pomodoro Timer\n",
    "\n",
    "> A little [Pomodoro timer](https://en.wikipedia.org/wiki/Pomodoro_Technique). It blocks websites for 25 minutes, unblocks them for a 5 minute break, and repeats."
   ]
  },
  {
   "cell_type": "code",
   "execution_count": null,
   "metadata": {},
   "outputs": [],
   "source": [
    "#hide\n",
    "from nbdev.showdoc import *\n",
    "import filecmp"
   ]
  },
  {
   "cell_type": "code",
   "execution_count": null,
   "metadata": {},
   "outputs": [],
   "source": [
    "#export\n",
    "from time import sleep\n",
    "from beproductive.blocker import *\n",
    "import sys\n",
    "\n",
    "WORK_TIME = 25 # minutes\n",
    "BREAK_TIME = 5 # minutes\n",
    "POMODOROS = 4"
   ]
  },
  {
   "cell_type": "code",
   "execution_count": null,
   "metadata": {},
   "outputs": [],
   "source": [
    "#export\n",
    "def pomodoro(work_time=WORK_TIME, break_time=BREAK_TIME, pomodoros=POMODOROS):\n",
    "    blocker = Blocker()\n",
    "    turn = 1\n",
    "    while turn <= pomodoros:\n",
    "        if blocker.block():\n",
    "            blocker.notify(f\"Pomodoro no. {turn} started, work for {work_time} minutes\")\n",
    "        else:\n",
    "            blocker.notify(\"An error occured.\")\n",
    "        sleep(work_time*60)\n",
    "        blocker.unblock()\n",
    "        if turn < pomodoros:\n",
    "            blocker.notify(f\"Pomodoro no. {turn} ended, take a {break_time} minutes break\")\n",
    "            sleep(break_time*60)\n",
    "        else:\n",
    "            blocker.notify(f\"Pomodoro session ended, take a longer break. All websites unblocked.\", duration=10)\n",
    "        turn += 1"
   ]
  },
  {
   "cell_type": "markdown",
   "metadata": {},
   "source": [
    "## Run 2 Pomodoros of 1 second each"
   ]
  },
  {
   "cell_type": "code",
   "execution_count": null,
   "metadata": {},
   "outputs": [
    {
     "name": "stdout",
     "output_type": "stream",
     "text": [
      "Pomodoro no. 1 started, work for 0.016666666666666666 minutes\n",
      "Pomodoro no. 1 ended, take a 0.016666666666666666 minutes break\n",
      "Pomodoro no. 2 started, work for 0.016666666666666666 minutes\n",
      "Pomodoro session ended, take a longer break. All websites unblocked.\n"
     ]
    }
   ],
   "source": [
    "pomodoro(work_time=1/60, break_time=1/60, pomodoros=2)"
   ]
  },
  {
   "cell_type": "markdown",
   "metadata": {},
   "source": [
    "Make sure that websites are unblocked after the Pomodoro session:"
   ]
  },
  {
   "cell_type": "code",
   "execution_count": null,
   "metadata": {},
   "outputs": [],
   "source": [
    "assert filecmp.cmp(host_fp, host_fp_copy) == True, \"hosts file should be identical to hosts.original\""
   ]
  },
  {
   "cell_type": "markdown",
   "metadata": {},
   "source": [
    "## Command line tool"
   ]
  },
  {
   "cell_type": "code",
   "execution_count": null,
   "metadata": {},
   "outputs": [],
   "source": [
    "#export\n",
    "if __name__=='__main__':\n",
    "    try: mode = sys.argv[1]\n",
    "    except: mode = 'stop' \n",
    "    if mode == 'start':\n",
    "        pomodoro()"
   ]
  },
  {
   "cell_type": "code",
   "execution_count": null,
   "metadata": {},
   "outputs": [],
   "source": [
    "#hide\n",
    "from nbdev.export import notebook2script; notebook2script()"
   ]
  },
  {
   "cell_type": "code",
   "execution_count": null,
   "metadata": {},
   "outputs": [],
   "source": []
  }
 ],
 "metadata": {
  "kernelspec": {
   "display_name": "Python 3",
   "language": "python",
   "name": "python3"
  }
 },
 "nbformat": 4,
 "nbformat_minor": 2
}
