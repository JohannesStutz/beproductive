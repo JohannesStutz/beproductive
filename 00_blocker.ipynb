{
 "cells": [
  {
   "cell_type": "code",
   "execution_count": null,
   "metadata": {},
   "outputs": [],
   "source": [
    "# default_exp blocker\n",
    "%load_ext autoreload\n",
    "%autoreload 2"
   ]
  },
  {
   "cell_type": "markdown",
   "metadata": {},
   "source": [
    "# Website Blocker\n",
    "\n",
    "> This is the core functionality of beproductive. A defined list of websites is added to the `hosts` file of the OS with a redirect to `127.0.0.1`."
   ]
  },
  {
   "cell_type": "code",
   "execution_count": null,
   "metadata": {},
   "outputs": [],
   "source": [
    "#hide\n",
    "from nbdev.showdoc import *"
   ]
  },
  {
   "cell_type": "code",
   "execution_count": null,
   "metadata": {},
   "outputs": [],
   "source": [
    "#export\n",
    "from pathlib import Path\n",
    "from shutil import copy\n",
    "import sys\n",
    "try:\n",
    "    from win10toast import ToastNotifier\n",
    "    win_notify = ToastNotifier()\n",
    "except:\n",
    "    win_notify = False"
   ]
  },
  {
   "cell_type": "code",
   "execution_count": null,
   "metadata": {},
   "outputs": [],
   "source": [
    "#export\n",
    "APP_NAME = 'Website Blocker'\n",
    "REDIRECT = '127.0.0.1'\n",
    "WIN_PATH = r'C:\\Windows\\System32\\drivers\\etc'\n",
    "ICON_PATH = 'icon.ico'\n",
    "BLOCKLIST = 'blocklist.txt'\n",
    "\n",
    "host_path = Path(WIN_PATH)\n",
    "host_file = host_path/'hosts'\n",
    "host_file_copy = host_path/'hosts.original'\n",
    "host_file_blocked = host_path/'hosts.blocked'"
   ]
  },
  {
   "cell_type": "code",
   "execution_count": null,
   "metadata": {},
   "outputs": [],
   "source": [
    "#export\n",
    "class Blocker():\n",
    "    \"The core of the package. It modifies the hosts file of the OS.\"\n",
    "    def __init__(self, redirect=REDIRECT):\n",
    "        self.redirect = redirect\n",
    "        with open(BLOCKLIST) as file:\n",
    "            self.blocked = [line.rstrip() for line in file]\n",
    "        if not host_file_copy.exists():\n",
    "            self._setup()\n",
    "        self._create_blocked_list()\n",
    "\n",
    "    def _setup(self):\n",
    "        \"Creates a copy of the `hosts` file and saves it as `hosts.original`\"\n",
    "        try:\n",
    "            copy(host_file, host_file_copy)\n",
    "            print(\"Copy of hosts file created\")\n",
    "        except PermissionError:\n",
    "            self._raise_permission_error()\n",
    "\n",
    "    def _create_blocked_list(self):\n",
    "        \"Creates a copy of `hosts.original` and saves it to `hosts.blocked`. Then adds all blocked sites.\"\n",
    "        try:\n",
    "            copy(host_file_copy, host_file_blocked)\n",
    "            with open(host_file_blocked, \"a\") as blocked_file:\n",
    "                for url in self.blocked:\n",
    "                    # TODO: refine, add www only if not in url\n",
    "                    blocked_file.write(f\"{self.redirect} {url}\\n\")\n",
    "                    blocked_file.write(f\"{self.redirect} www.{url}\\n\")\n",
    "                print(\"hosts.blocked created\")\n",
    "        except PermissionError:\n",
    "            self._raise_permission_error()\n",
    "\n",
    "    def block(self):\n",
    "        \"Blocks all specified websites by replacing `hosts` file with `hosts.blocked`\"\n",
    "        try:\n",
    "            copy(host_file_blocked, host_file)\n",
    "            print(\"Hosts file replaced with hosts.blocked\")\n",
    "            return True\n",
    "        except PermissionError:\n",
    "            self._raise_permission_error()\n",
    "            return False\n",
    "\n",
    "    def unblock(self):\n",
    "        \"Unblocks all websites by restoring the original `hosts` file\"\n",
    "        try:\n",
    "            copy(host_file_copy, host_file)\n",
    "            print(\"Hosts file replaced with hosts.original\")\n",
    "            return True\n",
    "        except PermissionError:\n",
    "            self._raise_permission_error()\n",
    "            return False\n",
    "\n",
    "    def notify(self, message, title=APP_NAME):\n",
    "        \"Sends notification to CLI and - if available - to GUI\"\n",
    "        print(message)\n",
    "        if win_notify:\n",
    "            win_notify.show_toast(title, message, duration=5) # icon_path=ICON_PATH, \n",
    "\n",
    "    def _raise_permission_error(self):\n",
    "        self.notify(\"Permission Error. Please run the command line tool as ADMINISTRATOR.\")"
   ]
  },
  {
   "cell_type": "code",
   "execution_count": null,
   "metadata": {},
   "outputs": [
    {
     "data": {
      "text/markdown": [
       "<h4 id=\"Blocker.block\" class=\"doc_header\"><code>Blocker.block</code><a href=\"__main__.py#L33\" class=\"source_link\" style=\"float:right\">[source]</a></h4>\n",
       "\n",
       "> <code>Blocker.block</code>()\n",
       "\n",
       "Blocks all specified websites by replacing `hosts` file with `hosts.blocked`"
      ],
      "text/plain": [
       "<IPython.core.display.Markdown object>"
      ]
     },
     "metadata": {},
     "output_type": "display_data"
    }
   ],
   "source": [
    "show_doc(Blocker.block)"
   ]
  },
  {
   "cell_type": "code",
   "execution_count": null,
   "metadata": {},
   "outputs": [
    {
     "data": {
      "text/markdown": [
       "<h4 id=\"Blocker.unblock\" class=\"doc_header\"><code>Blocker.unblock</code><a href=\"__main__.py#L43\" class=\"source_link\" style=\"float:right\">[source]</a></h4>\n",
       "\n",
       "> <code>Blocker.unblock</code>()\n",
       "\n",
       "Unblocks all websites by restoring the original `hosts` file"
      ],
      "text/plain": [
       "<IPython.core.display.Markdown object>"
      ]
     },
     "metadata": {},
     "output_type": "display_data"
    }
   ],
   "source": [
    "show_doc(Blocker.unblock)"
   ]
  },
  {
   "cell_type": "code",
   "execution_count": null,
   "metadata": {},
   "outputs": [
    {
     "data": {
      "text/markdown": [
       "<h4 id=\"Blocker.notify\" class=\"doc_header\"><code>Blocker.notify</code><a href=\"__main__.py#L53\" class=\"source_link\" style=\"float:right\">[source]</a></h4>\n",
       "\n",
       "> <code>Blocker.notify</code>(**`message`**, **`title`**=*`'Website Blocker'`*)\n",
       "\n",
       "Sends notification to CLI and - if available - to GUI"
      ],
      "text/plain": [
       "<IPython.core.display.Markdown object>"
      ]
     },
     "metadata": {},
     "output_type": "display_data"
    }
   ],
   "source": [
    "show_doc(Blocker.notify)"
   ]
  },
  {
   "cell_type": "markdown",
   "metadata": {},
   "source": [
    "## Using Blocker"
   ]
  },
  {
   "cell_type": "code",
   "execution_count": null,
   "metadata": {},
   "outputs": [
    {
     "name": "stdout",
     "output_type": "stream",
     "text": [
      "hosts.blocked created\n",
      "Hosts file replaced with hosts.blocked\n"
     ]
    },
    {
     "data": {
      "text/plain": [
       "True"
      ]
     },
     "execution_count": null,
     "metadata": {},
     "output_type": "execute_result"
    }
   ],
   "source": [
    "blocker = Blocker()\n",
    "blocker.block()"
   ]
  },
  {
   "cell_type": "code",
   "execution_count": null,
   "metadata": {},
   "outputs": [
    {
     "name": "stdout",
     "output_type": "stream",
     "text": [
      "Hosts file replaced with hosts.original\n"
     ]
    },
    {
     "data": {
      "text/plain": [
       "True"
      ]
     },
     "execution_count": null,
     "metadata": {},
     "output_type": "execute_result"
    }
   ],
   "source": [
    "blocker.unblock()"
   ]
  },
  {
   "cell_type": "markdown",
   "metadata": {},
   "source": [
    "## Command line tool"
   ]
  },
  {
   "cell_type": "code",
   "execution_count": null,
   "metadata": {},
   "outputs": [
    {
     "name": "stdout",
     "output_type": "stream",
     "text": [
      "hosts.blocked created\n",
      "Run blocker.py with arguments BLOCK or UNBLOCK\n"
     ]
    }
   ],
   "source": [
    "#export\n",
    "if __name__=='__main__':\n",
    "    blocker = Blocker()\n",
    "    try: mode = sys.argv[1].lower()\n",
    "    except: mode = 'none' \n",
    "\n",
    "    if mode == 'block':\n",
    "        if blocker.block():\n",
    "            blocker.notify(\"Websites blocked, enjoy your work\")\n",
    "    elif mode == 'unblock':\n",
    "        if blocker.unblock():\n",
    "            blocker.notify(\"Websites unblocked, have fun\")\n",
    "    else:\n",
    "        print(\"Run blocker.py with arguments BLOCK or UNBLOCK\")"
   ]
  }
 ],
 "metadata": {
  "kernelspec": {
   "display_name": "Python 3",
   "language": "python",
   "name": "python3"
  }
 },
 "nbformat": 4,
 "nbformat_minor": 2
}
