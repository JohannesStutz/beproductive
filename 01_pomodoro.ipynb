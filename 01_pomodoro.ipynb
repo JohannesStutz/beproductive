{
 "cells": [
  {
   "cell_type": "code",
   "execution_count": null,
   "metadata": {},
   "outputs": [],
   "source": [
    "# default_exp pomodoro\n",
    "%load_ext autoreload\n",
    "%autoreload 2"
   ]
  },
  {
   "cell_type": "markdown",
   "metadata": {},
   "source": [
    "# Pomodoro Timer\n",
    "\n",
    "> A little [Pomodoro timer](https://en.wikipedia.org/wiki/Pomodoro_Technique). It blocks websites for 25 minutes, unblocks them for a 5 minute break, and repeats."
   ]
  },
  {
   "cell_type": "code",
   "execution_count": null,
   "metadata": {},
   "outputs": [],
   "source": [
    "#hide\n",
    "from nbdev.showdoc import *"
   ]
  },
  {
   "cell_type": "code",
   "execution_count": null,
   "metadata": {},
   "outputs": [],
   "source": [
    "#export\n",
    "from time import sleep\n",
    "from beproductive.blocker import Blocker\n",
    "import sys\n",
    "\n",
    "WORK = 25\n",
    "BREAK = 5\n",
    "POMODOROS = 4"
   ]
  },
  {
   "cell_type": "markdown",
   "metadata": {},
   "source": [
    "**To Do:** Refactor into a function. Add tests with short times."
   ]
  },
  {
   "cell_type": "markdown",
   "metadata": {},
   "source": [
    "## Command line tool"
   ]
  },
  {
   "cell_type": "code",
   "execution_count": null,
   "metadata": {},
   "outputs": [
    {
     "name": "stdout",
     "output_type": "stream",
     "text": [
      "hosts.blocked created\n"
     ]
    }
   ],
   "source": [
    "#export\n",
    "if __name__=='__main__':\n",
    "    blocker = Blocker()\n",
    "    try: mode = sys.argv[1]\n",
    "    except: mode = 'stop' \n",
    "    if mode == 'start':\n",
    "        turn = 1\n",
    "        while turn <= POMODOROS:\n",
    "            blocker.block()\n",
    "            blocker.notify(f\"Pomodoro no. {turn} started, work for {WORK} minutes\")\n",
    "            sleep(WORK*60)\n",
    "            blocker.unblock()\n",
    "            if turn < POMODOROS:\n",
    "                blocker.notify(f\"Pomodoro no. {turn} ended, take a {BREAK} minutes break\")\n",
    "                sleep(BREAK*60)\n",
    "            else:\n",
    "                blocker.notify(f\"Pomodoro session ended, take a longer break. All websites unblocked.\", duration=10)\n",
    "            turn += 1"
   ]
  },
  {
   "cell_type": "code",
   "execution_count": null,
   "metadata": {},
   "outputs": [],
   "source": [
    "assert type(blocker) == beproductive.blocker.Blocker"
   ]
  }
 ],
 "metadata": {
  "kernelspec": {
   "display_name": "Python 3",
   "language": "python",
   "name": "python3"
  }
 },
 "nbformat": 4,
 "nbformat_minor": 2
}
