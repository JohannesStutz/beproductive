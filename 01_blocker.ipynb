{
 "cells": [
  {
   "cell_type": "code",
   "execution_count": null,
   "metadata": {},
   "outputs": [
    {
     "name": "stdout",
     "output_type": "stream",
     "text": [
      "The autoreload extension is already loaded. To reload it, use:\n",
      "  %reload_ext autoreload\n"
     ]
    }
   ],
   "source": [
    "# default_exp blocker\n",
    "%load_ext autoreload\n",
    "%autoreload 2"
   ]
  },
  {
   "cell_type": "markdown",
   "metadata": {},
   "source": [
    "# Website Blocker\n",
    "\n",
    "> This is the core functionality of beproductive. A defined list of websites is added to the `hosts` file of the OS with a redirect to `127.0.0.1`."
   ]
  },
  {
   "cell_type": "code",
   "execution_count": null,
   "metadata": {},
   "outputs": [],
   "source": [
    "#hide\n",
    "from nbdev.showdoc import *"
   ]
  },
  {
   "cell_type": "code",
   "execution_count": null,
   "metadata": {},
   "outputs": [],
   "source": [
    "#export\n",
    "from pathlib import Path\n",
    "from shutil import copy\n",
    "import beproductive.config as config\n",
    "import sys\n",
    "try:\n",
    "    from win10toast import ToastNotifier\n",
    "    win_notify = ToastNotifier()\n",
    "except:\n",
    "    win_notify = False"
   ]
  },
  {
   "cell_type": "code",
   "execution_count": null,
   "metadata": {},
   "outputs": [],
   "source": [
    "#export\n",
    "APP_NAME = 'Be Productive'\n",
    "REDIRECT = '127.0.0.1'\n",
    "WIN_PATH = r'C:\\Windows\\System32\\drivers\\etc'\n",
    "LINUX_PATH = r'/etc'\n",
    "NOTIFY_DURATION = 5 # CHANGE TO 5 FOR PRODUCTION\n",
    "ICON_PATH = 'icon.ico'\n",
    "\n",
    "if sys.platform == 'win32':\n",
    "    host_path = Path(WIN_PATH)\n",
    "else:\n",
    "    host_path = Path(LINUX_PATH)\n",
    "host_fp = host_path/'hosts'\n",
    "host_fp_copy = host_path/'hosts.original'\n",
    "host_fp_blocked = host_path/'hosts.blocked'"
   ]
  },
  {
   "cell_type": "code",
   "execution_count": null,
   "metadata": {},
   "outputs": [],
   "source": [
    "#export\n",
    "class Blocker():\n",
    "    \"The core of the package. It modifies the hosts file of the OS.\"\n",
    "    def __init__(self, redirect=REDIRECT):\n",
    "        self.adminrights = False\n",
    "        self.redirect = redirect\n",
    "        self.blocklist = config.load_config()\n",
    "        if not host_fp_copy.exists():\n",
    "            self._setup()\n",
    "        if self._create_blocked_list():\n",
    "            self.adminrights = True\n",
    "\n",
    "    def _setup(self):\n",
    "        \"Creates a copy of the `hosts` file and saves it as `hosts.original`\"\n",
    "        try:\n",
    "            copy(host_fp, host_fp_copy)\n",
    "            self.notify(\"Setup successful\")\n",
    "        except PermissionError:\n",
    "            self._raise_permission_error()\n",
    "\n",
    "    def _create_blocked_list(self):\n",
    "        \"Creates a copy of `hosts.original` and saves it to `hosts.blocked`. Then adds all blocked sites.\"\n",
    "        try:\n",
    "            copy(host_fp_copy, host_fp_blocked)\n",
    "            with open(host_fp_blocked, \"a\") as blocked_file:\n",
    "                for url in self.blocklist:\n",
    "                    # TODO: refine, add www only if not in url, remove www if in url\n",
    "                    blocked_file.write(f\"{self.redirect} {url} www.{url} api.{url}\\n\")\n",
    "                    # Special case for Twitter which has a special API URL\n",
    "                    if url == 'twitter.com':\n",
    "                        blocked_file.write(f\"{self.redirect} tpop-api.twitter.com\\n\")\n",
    "            return True\n",
    "        except PermissionError:\n",
    "            self._raise_permission_error()\n",
    "            return False\n",
    "\n",
    "    def block(self, notify=False):\n",
    "        \"Blocks all specified websites by replacing `hosts` file with `hosts.blocked`\"\n",
    "        try:\n",
    "            copy(host_fp_blocked, host_fp)\n",
    "        except PermissionError:\n",
    "            self._raise_permission_error()\n",
    "            return False\n",
    "        if notify:\n",
    "            self.notify(\"Websites blocked, enjoy your work.\")\n",
    "        return \"Websites blocked\"\n",
    "\n",
    "    def unblock(self, notify=False):\n",
    "        \"Unblocks all websites by restoring the original `hosts` file\"\n",
    "        try:\n",
    "            copy(host_fp_copy, host_fp)\n",
    "        except PermissionError:\n",
    "            self._raise_permission_error()\n",
    "            return False\n",
    "        if notify:\n",
    "            self.notify(\"All websites unblocked.\")\n",
    "        return \"Websites unblocked\"\n",
    "\n",
    "    def notify(self, message, title=APP_NAME, duration=NOTIFY_DURATION):\n",
    "        \"Sends notification to CLI and - if available - to GUI\"\n",
    "        print(message)\n",
    "        if win_notify:\n",
    "            win_notify.show_toast(title, message, duration=duration)\n",
    "\n",
    "    def _raise_permission_error(self):\n",
    "        self.notify(\"Permission Error. Please run the command line tool as ADMINISTRATOR.\")"
   ]
  },
  {
   "cell_type": "code",
   "execution_count": null,
   "metadata": {},
   "outputs": [
    {
     "data": {
      "text/markdown": [
       "<h4 id=\"Blocker.block\" class=\"doc_header\"><code>Blocker.block</code><a href=\"__main__.py#L37\" class=\"source_link\" style=\"float:right\">[source]</a></h4>\n",
       "\n",
       "> <code>Blocker.block</code>(**`notify`**=*`False`*)\n",
       "\n",
       "Blocks all specified websites by replacing `hosts` file with `hosts.blocked`"
      ],
      "text/plain": [
       "<IPython.core.display.Markdown object>"
      ]
     },
     "metadata": {},
     "output_type": "display_data"
    }
   ],
   "source": [
    "show_doc(Blocker.block)"
   ]
  },
  {
   "cell_type": "code",
   "execution_count": null,
   "metadata": {},
   "outputs": [
    {
     "data": {
      "text/markdown": [
       "<h4 id=\"Blocker.unblock\" class=\"doc_header\"><code>Blocker.unblock</code><a href=\"__main__.py#L48\" class=\"source_link\" style=\"float:right\">[source]</a></h4>\n",
       "\n",
       "> <code>Blocker.unblock</code>(**`notify`**=*`False`*)\n",
       "\n",
       "Unblocks all websites by restoring the original `hosts` file"
      ],
      "text/plain": [
       "<IPython.core.display.Markdown object>"
      ]
     },
     "metadata": {},
     "output_type": "display_data"
    }
   ],
   "source": [
    "show_doc(Blocker.unblock)"
   ]
  },
  {
   "cell_type": "code",
   "execution_count": null,
   "metadata": {},
   "outputs": [
    {
     "data": {
      "text/markdown": [
       "<h4 id=\"Blocker.notify\" class=\"doc_header\"><code>Blocker.notify</code><a href=\"__main__.py#L59\" class=\"source_link\" style=\"float:right\">[source]</a></h4>\n",
       "\n",
       "> <code>Blocker.notify</code>(**`message`**, **`title`**=*`'Be Productive'`*, **`duration`**=*`5`*)\n",
       "\n",
       "Sends notification to CLI and - if available - to GUI"
      ],
      "text/plain": [
       "<IPython.core.display.Markdown object>"
      ]
     },
     "metadata": {},
     "output_type": "display_data"
    }
   ],
   "source": [
    "show_doc(Blocker.notify)"
   ]
  },
  {
   "cell_type": "markdown",
   "metadata": {},
   "source": [
    "## Using Blocker"
   ]
  },
  {
   "cell_type": "code",
   "execution_count": null,
   "metadata": {},
   "outputs": [],
   "source": [
    "import filecmp"
   ]
  },
  {
   "cell_type": "code",
   "execution_count": null,
   "metadata": {},
   "outputs": [],
   "source": [
    "blocker = Blocker()"
   ]
  },
  {
   "cell_type": "code",
   "execution_count": null,
   "metadata": {},
   "outputs": [
    {
     "data": {
      "text/plain": [
       "['twitter.com',\n",
       " 'youtube.com',\n",
       " 'facebook.com',\n",
       " 'instagram.com',\n",
       " 'reddit.com',\n",
       " 'netflix.com',\n",
       " 'amazon.com',\n",
       " 'linkedin.com']"
      ]
     },
     "execution_count": null,
     "metadata": {},
     "output_type": "execute_result"
    }
   ],
   "source": [
    "blocker.blocklist"
   ]
  },
  {
   "cell_type": "code",
   "execution_count": null,
   "metadata": {},
   "outputs": [],
   "source": [
    "assert filecmp.cmp(host_fp, host_fp_copy) == True, \"hosts file should be identical to hosts.original\""
   ]
  },
  {
   "cell_type": "code",
   "execution_count": null,
   "metadata": {},
   "outputs": [
    {
     "data": {
      "text/plain": [
       "'Websites blocked'"
      ]
     },
     "execution_count": null,
     "metadata": {},
     "output_type": "execute_result"
    }
   ],
   "source": [
    "blocker.block()"
   ]
  },
  {
   "cell_type": "code",
   "execution_count": null,
   "metadata": {},
   "outputs": [],
   "source": [
    "assert filecmp.cmp(host_fp, host_fp_blocked) == True, \"hosts file should be identical to hosts.blocked\""
   ]
  },
  {
   "cell_type": "code",
   "execution_count": null,
   "metadata": {},
   "outputs": [
    {
     "data": {
      "text/plain": [
       "'Websites unblocked'"
      ]
     },
     "execution_count": null,
     "metadata": {},
     "output_type": "execute_result"
    }
   ],
   "source": [
    "blocker.unblock()"
   ]
  },
  {
   "cell_type": "code",
   "execution_count": null,
   "metadata": {},
   "outputs": [],
   "source": [
    "assert filecmp.cmp(host_fp, host_fp_copy) == True, \"hosts file should be identical to hosts.original\""
   ]
  },
  {
   "cell_type": "code",
   "execution_count": null,
   "metadata": {},
   "outputs": [
    {
     "name": "stdout",
     "output_type": "stream",
     "text": [
      "Converted 00_beproductive.ipynb.\n",
      "Converted 01_blocker.ipynb.\n",
      "Converted 02_pomodoro.ipynb.\n",
      "Converted 03_config.ipynb.\n",
      "Converted index.ipynb.\n"
     ]
    }
   ],
   "source": [
    "#hide\n",
    "from nbdev.export import notebook2script; notebook2script()"
   ]
  }
 ],
 "metadata": {
  "kernelspec": {
   "display_name": "Python 3",
   "language": "python",
   "name": "python3"
  }
 },
 "nbformat": 4,
 "nbformat_minor": 2
}
