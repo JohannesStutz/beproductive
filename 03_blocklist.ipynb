{
 "cells": [
  {
   "cell_type": "code",
   "execution_count": null,
   "metadata": {},
   "outputs": [],
   "source": [
    "# default_exp blocklist"
   ]
  },
  {
   "cell_type": "code",
   "execution_count": null,
   "metadata": {},
   "outputs": [],
   "source": [
    "#export\n",
    "BLOCKLIST = [\n",
    "    \"twitter.com\",\n",
    "    \"youtube.com\",\n",
    "    \"facebook.com\",\n",
    "    \"instagram.com\",\n",
    "    \"reddit.com\",\n",
    "    \"netflix.com\",\n",
    "    \"amazon.com\",\n",
    "    \"linkedin.com\"\n",
    "]"
   ]
  }
 ],
 "metadata": {
  "kernelspec": {
   "display_name": "Python 3",
   "language": "python",
   "name": "python3"
  }
 },
 "nbformat": 4,
 "nbformat_minor": 4
}
