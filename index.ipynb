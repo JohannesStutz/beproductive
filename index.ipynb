{
 "cells": [
  {
   "cell_type": "code",
   "execution_count": null,
   "metadata": {},
   "outputs": [],
   "source": [
    "#hide\n",
    "from beproductive.config import show_blocklist"
   ]
  },
  {
   "cell_type": "markdown",
   "metadata": {},
   "source": [
    "# Be Productive\n",
    "\n",
    "> A tool that let's you focus on your work by blocking distracting websites. Optionally with a timer for work sessions, using the Pomodoro technique."
   ]
  },
  {
   "cell_type": "markdown",
   "metadata": {},
   "source": [
    "## Install"
   ]
  },
  {
   "cell_type": "markdown",
   "metadata": {},
   "source": [
    "To install **Be Productive**:\n",
    "```pip install beproductive```\n",
    "\n",
    "If you use Windows, it's recommended to `pip install win10toast` for [nice Windows notifications](https://github.com/jithurjacob/Windows-10-Toast-Notifications). \n",
    "\n",
    "![](pomodoro-notification.png)\n",
    "\n",
    "You don't have to install `win10toast`, but without it you will not get visible and audible notifications for Pomodoro. However, all notifications are also printed in your command line interface."
   ]
  },
  {
   "cell_type": "markdown",
   "metadata": {},
   "source": [
    "## How to Use"
   ]
  },
  {
   "cell_type": "markdown",
   "metadata": {},
   "source": [
    "### Windows\n",
    "You have to open your command line tool with **administrator privileges.**\n",
    "\n",
    "### Linux (and MacOS?)\n",
    "You have to run Be Productive with **root privileges**, either with `sudo` before every command or once with `su`.\n",
    "\n",
    "### Block / Unblock Websites\n",
    "Block websites:\n",
    "```\n",
    "python -m beproductive\n",
    "```\n",
    "Block websites for `x` minutes:\n",
    "```\n",
    "python -m beproductive block --time 45\n",
    "```\n",
    "Unblock all websites:\n",
    "```\n",
    "python -m beproductive unblock\n",
    "```\n",
    "\n",
    "Start a Pomodoro session:\n",
    "```\n",
    "python -m beproductive pomodoro\n",
    "```"
   ]
  },
  {
   "cell_type": "markdown",
   "metadata": {},
   "source": [
    "### Pomodoro\n",
    "The [Pomodoro](https://en.wikipedia.org/wiki/Pomodoro_Technique) feature blocks your defined websites for **25 minutes**. It notifies you to take a break and gives you access to all websites for **5 minutes**. Although I recommend getting up and stretching instead :) This cycle is repeated **4 times**.\n",
    "\n",
    "You can customize Pomodoros. This is how you run 5 Pomodoros of 45 minutes with 10 minute breaks:\n",
    "```\n",
    "python -m beproductive pomodoro --time 45 --breaktime 10 --pomodoros 5\n",
    "python -m beproductive pomodoro -t 45 -b 10 -p 5\n",
    "```"
   ]
  },
  {
   "cell_type": "markdown",
   "metadata": {},
   "source": [
    "## Blocked Websites\n",
    "\n",
    "These websites are blocked per default, but you can add and remove websites easily. You can view all blocked websites with this command:\n",
    "```\n",
    "python -m beproductive [--list/-l]\n",
    "```"
   ]
  },
  {
   "cell_type": "code",
   "execution_count": null,
   "metadata": {},
   "outputs": [
    {
     "name": "stdout",
     "output_type": "stream",
     "text": [
      "twitter.com\n",
      "youtube.com\n",
      "facebook.com\n",
      "instagram.com\n",
      "reddit.com\n",
      "netflix.com\n",
      "amazon.com\n",
      "linkedin.com\n"
     ]
    }
   ],
   "source": [
    "#hide_input\n",
    "show_blocklist()"
   ]
  },
  {
   "cell_type": "markdown",
   "metadata": {},
   "source": [
    "### Customizing Blocklist\n",
    "\n",
    "To add websites to the blocklist:\n",
    "```\n",
    "python -m beproductive [--add/-a] quora.com wired.com\n",
    "```\n",
    "\n",
    "To remove websites from blocklist:\n",
    "```\n",
    "python -m beproductive [--remove/-r] quora.com wired.com\n",
    "```"
   ]
  },
  {
   "cell_type": "markdown",
   "metadata": {},
   "source": [
    "### Batch files\n",
    "For quick access:\n",
    "1. Create batch files for the commands you need.\n",
    "2. Add a shortcut to each batch file to your desktop.\n",
    "3. Right click on the shortcut\n",
    "4. In the `Shortcut` tab, click `Advanced`\n",
    "5. Check the `Run as Administrator` box\n",
    "6. You can even add a key binding.\n",
    "\n",
    "I used:\n",
    "- Ctrl + Alt + **B** to block all sites for 1 hour\n",
    "- Ctrl + Alt + **U** to unblock all sites\n",
    "- Ctrl + Alt + **P** to run a Pomodoro set\n",
    "\n",
    "Example for a batch file `block.bat`:\n",
    "```python -m beproductive block 60```"
   ]
  },
  {
   "cell_type": "markdown",
   "metadata": {},
   "source": [
    "## Behind the Scenes\n",
    "The script blocks URLs by modifying the `hosts` file. Blocked URLs are redirected to `127.0.0.1`. The script backs up the original `hosts` file. You will not lose any customizations and you can always reset to the original state."
   ]
  },
  {
   "cell_type": "markdown",
   "metadata": {},
   "source": [
    "## Roadmap\n",
    "- Make customizing the blocklist easy\n",
    "- Set up a schedule, i.e., block websites between 9am and 5pm"
   ]
  }
 ],
 "metadata": {
  "kernelspec": {
   "display_name": "Python 3",
   "language": "python",
   "name": "python3"
  }
 },
 "nbformat": 4,
 "nbformat_minor": 2
}
