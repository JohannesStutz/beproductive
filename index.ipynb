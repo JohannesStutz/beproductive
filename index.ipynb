{
 "cells": [
  {
   "cell_type": "code",
   "execution_count": null,
   "metadata": {},
   "outputs": [],
   "source": [
    "#hide\n",
    "from beproductive.blocker import *\n",
    "from beproductive.pomodoro import *\n",
    "import os"
   ]
  },
  {
   "cell_type": "markdown",
   "metadata": {},
   "source": [
    "# Be Productive\n",
    "\n",
    "> A tool that let's you focus on your work by blocking distracting websites. Optionally with a timer for work sessions, using the Pomodoro technique."
   ]
  },
  {
   "cell_type": "markdown",
   "metadata": {},
   "source": [
    "## Install"
   ]
  },
  {
   "cell_type": "markdown",
   "metadata": {},
   "source": [
    "I'm working on making this program `pip` installable. In the meantime: download all files from the `beproductive` folder and place them in the same directory.\n",
    "\n",
    "If you want to use Pomodoro and use Windows, it's recommended to `pip install win10toast` for [nice Windows notifications](https://github.com/jithurjacob/Windows-10-Toast-Notifications). \n",
    "\n",
    "![](pomodoro-notification.png)\n",
    "\n",
    "You don't have to install `win10toast`, but then you will not get visible and audible notifications for Pomodoro. All notifications are also printed in your command line tool however."
   ]
  },
  {
   "cell_type": "markdown",
   "metadata": {},
   "source": [
    "## Blocked Websites\n",
    "\n",
    "These websites are blocked per default, but you can always edit `blocklist.txt` and add your personal time killers."
   ]
  },
  {
   "cell_type": "code",
   "execution_count": null,
   "metadata": {},
   "outputs": [
    {
     "name": "stdout",
     "output_type": "stream",
     "text": [
      "twitter.com youtube.com facebook.com instagram.com reddit.com netflix.com amazon.com \n"
     ]
    }
   ],
   "source": [
    "#collapse_input\n",
    "with open(BLOCKLIST) as file:\n",
    "    print(\" \".join([line.rstrip() for line in file]))"
   ]
  },
  {
   "cell_type": "markdown",
   "metadata": {},
   "source": [
    "## How to Block / Unblock Websites"
   ]
  },
  {
   "cell_type": "markdown",
   "metadata": {},
   "source": [
    "### Windows\n",
    "To run the blocker script, **you have to run your command line tool with administrator privileges.**\n",
    "\n",
    "Block websites:\n",
    "```\n",
    "cd /directory/of/beproductive\n",
    "python -m beproductive\n",
    "```\n",
    "Block websites for `x` minutes:\n",
    "```\n",
    "python -m beproductive block 45\n",
    "```\n",
    "Unblock all websites:\n",
    "```\n",
    "python -m beproductive unblock\n",
    "```\n",
    "\n",
    "Start a Pomodoro session:\n",
    "```\n",
    "python -m beproductive pomodoro\n",
    "```\n",
    "\n",
    "### Linux (and MacOS?)\n",
    "Block websites:\n",
    "```\n",
    "cd /directory/of/beproductive\n",
    "sudo python -m beproductive [block]\n",
    "```\n",
    "Block websites for `x` minutes:\n",
    "```\n",
    "sudo python -m beproductive block 45\n",
    "```\n",
    "Unblock all websites:\n",
    "```\n",
    "sudo python -m beproductive unblock\n",
    "```\n",
    "\n",
    "Start a Pomodoro session:\n",
    "```\n",
    "sudo python -m beproductive pomodoro\n",
    "```"
   ]
  },
  {
   "cell_type": "markdown",
   "metadata": {},
   "source": [
    "### Pomodoro\n",
    "The [Pomodoro](https://en.wikipedia.org/wiki/Pomodoro_Technique) feature blocks your defined websites for 25 minutes. It notifies you after the 25 minutes are over and gives you access to all websites for 5 minutes. Although I recommend getting up and stretching instead :) This cycle is repeated 4 times.\n",
    "\n",
    "You can set custom times. This is how you run 5 Pomodoros of 45 minutes with 10 minute breaks:\n",
    "```\n",
    "python -m beproductive pomodoro 45 10 5\n",
    "```"
   ]
  },
  {
   "cell_type": "markdown",
   "metadata": {},
   "source": [
    "## Behind the Scenes\n",
    "The script blocks URLs by modifying the `hosts` file. Blocked URLs are redirected to `127.0.0.1`. The script backs up the original `hosts` file. You will not lose any customizations and you can always reset to the original state."
   ]
  },
  {
   "cell_type": "markdown",
   "metadata": {},
   "source": [
    "## Roadmap\n",
    "- Turn scripts into installable Python package\n",
    "- Extend to Linux and MacOS\n",
    "- Add ability to schedule or block for specific period of time"
   ]
  }
 ],
 "metadata": {
  "kernelspec": {
   "display_name": "Python 3",
   "language": "python",
   "name": "python3"
  }
 },
 "nbformat": 4,
 "nbformat_minor": 2
}
