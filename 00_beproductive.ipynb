{
 "cells": [
  {
   "cell_type": "code",
   "execution_count": null,
   "metadata": {},
   "outputs": [
    {
     "name": "stdout",
     "output_type": "stream",
     "text": [
      "The autoreload extension is already loaded. To reload it, use:\n",
      "  %reload_ext autoreload\n"
     ]
    }
   ],
   "source": [
    "# default_exp __main__\n",
    "%load_ext autoreload\n",
    "%autoreload 2"
   ]
  },
  {
   "cell_type": "markdown",
   "metadata": {},
   "source": [
    "# Be Productive\n",
    "> The CLI for Be Productive. This notebook defines the behaviour of beproductive.py when you run it."
   ]
  },
  {
   "cell_type": "code",
   "execution_count": null,
   "metadata": {},
   "outputs": [],
   "source": [
    "#hide\n",
    "from nbdev.showdoc import *"
   ]
  },
  {
   "cell_type": "code",
   "execution_count": null,
   "metadata": {},
   "outputs": [],
   "source": [
    "#export\n",
    "from beproductive.blocker import *\n",
    "from beproductive.pomodoro import *\n",
    "import argparse"
   ]
  },
  {
   "cell_type": "code",
   "execution_count": null,
   "metadata": {},
   "outputs": [],
   "source": [
    "#export\n",
    "def main(action):\n",
    "    if action == 'block' or action == None:\n",
    "        blocker = Blocker()\n",
    "        if blocker.adminrights:\n",
    "            blocker.block(notify=True)\n",
    "    elif action == 'unblock':\n",
    "        blocker = Blocker()\n",
    "        if blocker.adminrights:\n",
    "            blocker.unblock(notify=True)\n",
    "    elif action == 'pomodoro':\n",
    "        pomodoro()\n",
    "    elif action == 'pomodoro_test': # Testing pomodoro functionality with short times\n",
    "        pomodoro(1/60, 1/60, 2)"
   ]
  },
  {
   "cell_type": "markdown",
   "metadata": {},
   "source": [
    "## Testing `main` function"
   ]
  },
  {
   "cell_type": "code",
   "execution_count": null,
   "metadata": {},
   "outputs": [
    {
     "name": "stdout",
     "output_type": "stream",
     "text": [
      "Websites blocked, enjoy your work\n"
     ]
    }
   ],
   "source": [
    "main('block')"
   ]
  },
  {
   "cell_type": "code",
   "execution_count": null,
   "metadata": {},
   "outputs": [
    {
     "name": "stdout",
     "output_type": "stream",
     "text": [
      "All websites unblocked, have fun\n"
     ]
    }
   ],
   "source": [
    "main('unblock')"
   ]
  },
  {
   "cell_type": "code",
   "execution_count": null,
   "metadata": {},
   "outputs": [
    {
     "name": "stdout",
     "output_type": "stream",
     "text": [
      "Pomodoro no. 1 started, work for 0.016666666666666666 minutes\n",
      "Pomodoro no. 1 ended, take a 0.016666666666666666 minutes break\n",
      "Pomodoro no. 2 started, work for 0.016666666666666666 minutes\n",
      "Pomodoro session ended, take a longer break. All websites unblocked.\n"
     ]
    }
   ],
   "source": [
    "main('pomodoro_test')"
   ]
  },
  {
   "cell_type": "markdown",
   "metadata": {},
   "source": [
    "## Command Line Program"
   ]
  },
  {
   "cell_type": "code",
   "execution_count": null,
   "metadata": {},
   "outputs": [],
   "source": [
    "#export\n",
    "def parse_arguments():\n",
    "    parser = argparse.ArgumentParser(description=\"Block addictive websites. Study with the Pomodoro technique.\")\n",
    "    parser.add_argument('action', help='Block or unblock websites, or start a Pomodoro session. ', \\\n",
    "                        nargs='?', choices=['block', 'unblock', 'pomodoro'])\n",
    "    args = parser.parse_args()\n",
    "    return args"
   ]
  },
  {
   "cell_type": "markdown",
   "metadata": {},
   "source": [
    "Little helper function from https://stackoverflow.com/a/22424821  "
   ]
  },
  {
   "cell_type": "code",
   "execution_count": null,
   "metadata": {},
   "outputs": [],
   "source": [
    "#export\n",
    "def in_notebook():\n",
    "    try:\n",
    "        from IPython import get_ipython\n",
    "        if 'IPKernelApp' not in get_ipython().config:  # pragma: no cover\n",
    "            return False\n",
    "    except ImportError:\n",
    "        return False\n",
    "    return True"
   ]
  },
  {
   "cell_type": "code",
   "execution_count": null,
   "metadata": {},
   "outputs": [],
   "source": [
    "#export\n",
    "if __name__ == '__main__' and not in_notebook():\n",
    "    args = parse_arguments()\n",
    "    main(args.action)"
   ]
  },
  {
   "cell_type": "code",
   "execution_count": null,
   "metadata": {},
   "outputs": [
    {
     "name": "stdout",
     "output_type": "stream",
     "text": [
      "Converted 00_beproductive.ipynb.\n",
      "Converted 01_blocker.ipynb.\n",
      "Converted 02_pomodoro.ipynb.\n",
      "Converted index.ipynb.\n"
     ]
    }
   ],
   "source": [
    "#hide\n",
    "from nbdev.export import notebook2script; notebook2script()"
   ]
  },
  {
   "cell_type": "code",
   "execution_count": null,
   "metadata": {},
   "outputs": [],
   "source": []
  }
 ],
 "metadata": {
  "kernelspec": {
   "display_name": "Python 3",
   "language": "python",
   "name": "python3"
  }
 },
 "nbformat": 4,
 "nbformat_minor": 4
}
