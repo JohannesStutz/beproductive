{
 "cells": [
  {
   "cell_type": "code",
   "execution_count": null,
   "metadata": {},
   "outputs": [
    {
     "name": "stdout",
     "output_type": "stream",
     "text": [
      "The autoreload extension is already loaded. To reload it, use:\n",
      "  %reload_ext autoreload\n"
     ]
    }
   ],
   "source": [
    "# default_exp __main__\n",
    "%load_ext autoreload\n",
    "%autoreload 2"
   ]
  },
  {
   "cell_type": "markdown",
   "metadata": {},
   "source": [
    "# Be Productive\n",
    "> The CLI for Be Productive. This notebook defines the behaviour of beproductive.py when you run it."
   ]
  },
  {
   "cell_type": "code",
   "execution_count": null,
   "metadata": {},
   "outputs": [],
   "source": [
    "#hide\n",
    "from nbdev.showdoc import *"
   ]
  },
  {
   "cell_type": "code",
   "execution_count": null,
   "metadata": {},
   "outputs": [],
   "source": [
    "#export\n",
    "from beproductive.blocker import *\n",
    "from beproductive.pomodoro import *\n",
    "import argparse\n",
    "from time import sleep"
   ]
  },
  {
   "cell_type": "code",
   "execution_count": null,
   "metadata": {},
   "outputs": [],
   "source": [
    "#export\n",
    "def main(action=None, time=None, break_time=None, pomodoros=None):\n",
    "    if action == 'block' or action == None:\n",
    "        blocker = Blocker()\n",
    "        if blocker.adminrights:\n",
    "            if time:\n",
    "                blocker.block()\n",
    "                blocker.notify(f'Websites blocked for {time} minutes.')\n",
    "                sleep(time*60)\n",
    "                blocker.unblock(notify=True)\n",
    "            else:\n",
    "                blocker.block(notify=True)\n",
    "    elif action == 'unblock':\n",
    "        blocker = Blocker()\n",
    "        if blocker.adminrights:\n",
    "            blocker.unblock(notify=True)\n",
    "    elif action == 'pomodoro':\n",
    "        pomodoro(work_time=time or WORK_TIME, break_time=break_time or BREAK_TIME, pomodoros=pomodoros or POMODOROS)"
   ]
  },
  {
   "cell_type": "markdown",
   "metadata": {},
   "source": [
    "## Testing `main` function"
   ]
  },
  {
   "cell_type": "code",
   "execution_count": null,
   "metadata": {},
   "outputs": [
    {
     "name": "stdout",
     "output_type": "stream",
     "text": [
      "Websites blocked, enjoy your work\n"
     ]
    }
   ],
   "source": [
    "main('block')"
   ]
  },
  {
   "cell_type": "code",
   "execution_count": null,
   "metadata": {},
   "outputs": [
    {
     "name": "stdout",
     "output_type": "stream",
     "text": [
      "Websites blocked for 0.016666666666666666 minutes.\n",
      "All websites unblocked, have fun\n"
     ]
    }
   ],
   "source": [
    "main('block', time=1/60)"
   ]
  },
  {
   "cell_type": "code",
   "execution_count": null,
   "metadata": {},
   "outputs": [
    {
     "name": "stdout",
     "output_type": "stream",
     "text": [
      "All websites unblocked, have fun\n"
     ]
    }
   ],
   "source": [
    "main('unblock')"
   ]
  },
  {
   "cell_type": "code",
   "execution_count": null,
   "metadata": {},
   "outputs": [
    {
     "name": "stdout",
     "output_type": "stream",
     "text": [
      "Pomodoro no. 1 of 2 started, work for 0.016666666666666666 minutes\n",
      "Pomodoro no. 1 ended, take a 0.016666666666666666 minutes break\n",
      "Pomodoro no. 2 of 2 started, work for 0.016666666666666666 minutes\n",
      "Pomodoro session ended, take a longer break. All websites unblocked.\n"
     ]
    }
   ],
   "source": [
    "main('pomodoro', time=1/60, break_time=1/60, pomodoros=2)"
   ]
  },
  {
   "cell_type": "markdown",
   "metadata": {},
   "source": [
    "## Command Line Program"
   ]
  },
  {
   "cell_type": "code",
   "execution_count": null,
   "metadata": {},
   "outputs": [],
   "source": [
    "#export\n",
    "def parse_arguments():\n",
    "    parser = argparse.ArgumentParser(description=\"Block addictive websites. Study with the Pomodoro technique.\")\n",
    "    parser.add_argument('action', nargs='?', choices=['block', 'unblock', 'pomodoro'], \\\n",
    "                        help='Block or unblock websites, or start a Pomodoro session. ')\n",
    "    parser.add_argument('time', type=int, nargs='?', \\\n",
    "                        help='How many minutes should websites be blocked?')\n",
    "    parser.add_argument('break_time', type=int, nargs='?', \\\n",
    "                        help='Length of the break between Pomodoros')\n",
    "    parser.add_argument('pomodoros', type=int, nargs='?', \\\n",
    "                        help='Number of Pomodoros')\n",
    "    args = parser.parse_args()\n",
    "    return args"
   ]
  },
  {
   "cell_type": "markdown",
   "metadata": {},
   "source": [
    "Little helper function from https://stackoverflow.com/a/22424821  "
   ]
  },
  {
   "cell_type": "code",
   "execution_count": null,
   "metadata": {},
   "outputs": [],
   "source": [
    "#export\n",
    "def in_notebook():\n",
    "    try:\n",
    "        from IPython import get_ipython\n",
    "        if 'IPKernelApp' not in get_ipython().config:  # pragma: no cover\n",
    "            return False\n",
    "    except ImportError:\n",
    "        return False\n",
    "    return True"
   ]
  },
  {
   "cell_type": "code",
   "execution_count": null,
   "metadata": {},
   "outputs": [],
   "source": [
    "#export\n",
    "if __name__ == '__main__' and not in_notebook():\n",
    "    args = parse_arguments()\n",
    "    main(args.action, args.time, args.break_time, args.pomodoros)"
   ]
  },
  {
   "cell_type": "code",
   "execution_count": null,
   "metadata": {},
   "outputs": [
    {
     "name": "stdout",
     "output_type": "stream",
     "text": [
      "Converted 00_beproductive.ipynb.\n",
      "Converted 01_blocker.ipynb.\n",
      "Converted 02_pomodoro.ipynb.\n",
      "Converted index.ipynb.\n"
     ]
    }
   ],
   "source": [
    "#hide\n",
    "from nbdev.export import notebook2script; notebook2script()"
   ]
  },
  {
   "cell_type": "code",
   "execution_count": null,
   "metadata": {},
   "outputs": [],
   "source": []
  }
 ],
 "metadata": {
  "kernelspec": {
   "display_name": "Python 3",
   "language": "python",
   "name": "python3"
  }
 },
 "nbformat": 4,
 "nbformat_minor": 4
}
