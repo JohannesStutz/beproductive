{
 "cells": [
  {
   "cell_type": "code",
   "execution_count": null,
   "metadata": {},
   "outputs": [
    {
     "name": "stdout",
     "output_type": "stream",
     "text": [
      "The autoreload extension is already loaded. To reload it, use:\n",
      "  %reload_ext autoreload\n"
     ]
    }
   ],
   "source": [
    "# default_exp __main__\n",
    "%load_ext autoreload\n",
    "%autoreload 2"
   ]
  },
  {
   "cell_type": "markdown",
   "metadata": {},
   "source": [
    "# Be Productive\n",
    "> The CLI for Be Productive. This notebook defines the behaviour of beproductive.py when you run it."
   ]
  },
  {
   "cell_type": "code",
   "execution_count": null,
   "metadata": {},
   "outputs": [],
   "source": [
    "#hide\n",
    "from nbdev.showdoc import *"
   ]
  },
  {
   "cell_type": "code",
   "execution_count": null,
   "metadata": {},
   "outputs": [],
   "source": [
    "#export\n",
    "from beproductive.blocker import Blocker\n",
    "from beproductive.pomodoro import pomodoro\n",
    "import beproductive.config as config\n",
    "import argparse\n",
    "import sys\n",
    "from time import sleep"
   ]
  },
  {
   "cell_type": "code",
   "execution_count": null,
   "metadata": {},
   "outputs": [],
   "source": [
    "#export\n",
    "def main(action=None, time=None, break_time=None, pomodoros=None):\n",
    "    # If no config file is found, create one with the default URLs\n",
    "    if not config.load_config():\n",
    "        config.save_config(default=True)\n",
    "\n",
    "    if action == 'block':\n",
    "        blocker = Blocker()\n",
    "        if blocker.adminrights:\n",
    "            if time:\n",
    "                blocker.block()\n",
    "                blocker.notify(f'Websites blocked for {time} minutes.')\n",
    "                sleep(time*60)\n",
    "                blocker.unblock(notify=True)\n",
    "            else:\n",
    "                blocker.block(notify=True)\n",
    "                \n",
    "    elif action == 'unblock':\n",
    "        blocker = Blocker()\n",
    "        if blocker.adminrights:\n",
    "            blocker.unblock(notify=True)\n",
    "            \n",
    "    elif action == 'pomodoro':\n",
    "        pomodoro(work_time=time or WORK_TIME, break_time=break_time or BREAK_TIME, pomodoros=pomodoros or POMODOROS)"
   ]
  },
  {
   "cell_type": "markdown",
   "metadata": {},
   "source": [
    "## Testing `main` function\n",
    "Make sure the main functionality works as expected."
   ]
  },
  {
   "cell_type": "code",
   "execution_count": null,
   "metadata": {},
   "outputs": [],
   "source": [
    "#main(action='block')"
   ]
  },
  {
   "cell_type": "code",
   "execution_count": null,
   "metadata": {},
   "outputs": [],
   "source": [
    "#main(action='unblock')"
   ]
  },
  {
   "cell_type": "code",
   "execution_count": null,
   "metadata": {},
   "outputs": [
    {
     "name": "stdout",
     "output_type": "stream",
     "text": [
      "Websites blocked for 0.016666666666666666 minutes.\n",
      "All websites unblocked, have fun\n"
     ]
    }
   ],
   "source": [
    "main(action='block', time=1/60)"
   ]
  },
  {
   "cell_type": "code",
   "execution_count": null,
   "metadata": {},
   "outputs": [],
   "source": [
    "#main(action='pomodoro', time=1/60, break_time=1/60, pomodoros=2)"
   ]
  },
  {
   "cell_type": "markdown",
   "metadata": {},
   "source": [
    "## Command Line Program\n",
    "\n",
    "### Parsing Arguments"
   ]
  },
  {
   "cell_type": "code",
   "execution_count": null,
   "metadata": {},
   "outputs": [],
   "source": [
    "#export\n",
    "def parse_arguments():\n",
    "    \"\"\"\n",
    "    Parse arguments from shell. All arguments are optional.  \n",
    "    action: ['block', 'unblock', 'pomodoro']  \n",
    "    time: minutes  \n",
    "    break_time: minutes  \n",
    "    pomodoros: int  \n",
    "    \n",
    "    Returns: Namespace\n",
    "    \"\"\"\n",
    "    parser = argparse.ArgumentParser(description=\"Block addictive websites. Study with the Pomodoro technique.\")\n",
    "    parser.add_argument('action',\n",
    "                        nargs='?',\n",
    "                        choices=['block', 'unblock', 'pomodoro'],\n",
    "                        help='Block or unblock websites, or start a Pomodoro session. ')\n",
    "    parser.add_argument('-t', '--time', type=int,\n",
    "                        help='How many minutes should websites be blocked?')\n",
    "    parser.add_argument('-b', '--breaktime', type=int,\n",
    "                        help='Length of the break between Pomodoros')\n",
    "    parser.add_argument('-p', '--pomodoros', type=int,\n",
    "                        help='Number of Pomodoros')\n",
    "    parser.add_argument('-l', '--list', action='store_true',\n",
    "                        help='List all blocked websites')\n",
    "    parser.add_argument('-a', '--add', nargs='+',\n",
    "                        help='One or more websites that should be added to blocklist')\n",
    "    parser.add_argument('-r', '--remove', nargs='+',\n",
    "                        help='One or more websites that should be removed from blocklist')\n",
    "    args = parser.parse_args()\n",
    "    return args"
   ]
  },
  {
   "cell_type": "markdown",
   "metadata": {},
   "source": [
    "Little helper function from https://stackoverflow.com/a/22424821  "
   ]
  },
  {
   "cell_type": "code",
   "execution_count": null,
   "metadata": {},
   "outputs": [],
   "source": [
    "#export\n",
    "def in_notebook():\n",
    "    \"Returns True if run in a notebook environment.\"\n",
    "    try:\n",
    "        from IPython import get_ipython\n",
    "        if 'IPKernelApp' not in get_ipython().config:\n",
    "            return False\n",
    "    except:\n",
    "        return False\n",
    "    return True"
   ]
  },
  {
   "cell_type": "markdown",
   "metadata": {},
   "source": [
    "### Execution in CLI"
   ]
  },
  {
   "cell_type": "code",
   "execution_count": null,
   "metadata": {},
   "outputs": [],
   "source": [
    "#export\n",
    "if __name__ == '__main__' and not in_notebook():\n",
    "    args = parse_arguments()\n",
    "    if args.add:\n",
    "        config.add_urls(args.add)\n",
    "    if args.remove:\n",
    "        config.remove_urls(args.remove)\n",
    "    if args.list:\n",
    "        config.show_blocklist()\n",
    "    # If action was provided, call main function\n",
    "    if args.action != None:\n",
    "        main(args.action, args.time, args.breaktime, args.pomodoros)\n",
    "    # Default behaviour if no arguments are provided at all: block websites\n",
    "    if len(sys.argv) <= 1:\n",
    "        main(action='block')"
   ]
  },
  {
   "cell_type": "code",
   "execution_count": null,
   "metadata": {},
   "outputs": [
    {
     "name": "stdout",
     "output_type": "stream",
     "text": [
      "Converted 00_beproductive.ipynb.\n",
      "Converted 01_blocker.ipynb.\n",
      "Converted 02_pomodoro.ipynb.\n",
      "Converted 03_config.ipynb.\n",
      "Converted index.ipynb.\n"
     ]
    }
   ],
   "source": [
    "#hide\n",
    "from nbdev.export import notebook2script; notebook2script()"
   ]
  },
  {
   "cell_type": "code",
   "execution_count": null,
   "metadata": {},
   "outputs": [],
   "source": []
  }
 ],
 "metadata": {
  "kernelspec": {
   "display_name": "Python 3",
   "language": "python",
   "name": "python3"
  }
 },
 "nbformat": 4,
 "nbformat_minor": 4
}
